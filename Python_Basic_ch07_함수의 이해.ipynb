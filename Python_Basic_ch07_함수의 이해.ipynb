{
 "cells": [
  {
   "cell_type": "markdown",
   "id": "1e42231f",
   "metadata": {},
   "source": [
    "## 함수(function, method)\n",
    "\n",
    "> 함수: 어떤 일을 수행하는 코드 묶음\n",
    "\n",
    "- python은 ()가 붙어 있으면 함수\n",
    "- 예: print(), type(), len(), list(), etc...\n",
    "\n",
    "함수 개발 가이드라인\n",
    "1.함수 이름\n",
    "  - 함수 내용은 가능하면 짧게 작성할 것(line 줄이기)\n",
    "  - 함수 이름에 함수의 역할과 의도를 명확히 드러낼 것\n",
    "  \n",
    "  ```python\n",
    "  def print_hello_world():\n",
    "        print(\"Hello,world\")\n",
    "  ```\n",
    "\n",
    "2.함수의 역할\n",
    "  - 하나의 함수에는 유사한 역할을 하는 코드만 포함\n",
    "  - 함수는 한가지의 역할을 명확히\n",
    "  ```python\n",
    "  def add_variables(x, y):\n",
    "        return x + y\n",
    "  ```\n",
    "  \n",
    "3.함수를 만들어야 하는 경우\n",
    "  - 공통으로 사용되는 코드를 함수로 변환\n",
    "  - 복잡한 로직이 사용되었을 때 식별 가능한 이름의 함수로 변환"
   ]
  },
  {
   "cell_type": "markdown",
   "id": "e027d229",
   "metadata": {},
   "source": [
    "#### 함수의 종류\n",
    "1.내장 함수(built-in function)\n",
    "  - python에서 제공하는 함수: print(), type(), len() 등등\n",
    "\n",
    "2.외장 함수(library or module)\n",
    "  - import문을 사용해서 외부 라이브러리에서 제공하는 함수\n",
    "  - 라이브러리(library): 다른 사람들이 만들어 놓은 코드 묶음\n",
    "\n",
    "3.사용자 정의 함수\n",
    "  - 개발자가 직접 만들어서 사용하는 함수\n",
    "  \n",
    "함수 Naming Rule\n",
    "  - 변수와 동일(+ snake_case)"
   ]
  },
  {
   "cell_type": "markdown",
   "id": "ed82003f",
   "metadata": {},
   "source": [
    "### 1.함수 정의\n",
    "\n",
    "```python\n",
    "# 기본 함수 문법\n",
    "def 함수이름(parameter1, parameter2, ...):\n",
    "    실행문\n",
    "    return 반환값\n",
    "```\n",
    "\n",
    "- 함수 정의시 \"def\" 키워드 사용\n",
    "- 인자(argument or parameter) 정의: 함수 입력 값\n",
    "- return: 함수 종료 의미\n",
    "- return 반환값: 함수 종료 + 함수호출문으로 반환값 전달(tuple type)\n",
    "- return 생략 가능 → 들였기가 종료되면 함수 종료 의미\n",
    "- parameter와 return은 사용하지 않을 수도 있음(입력값, 반환값 없는 함수도 존재)"
   ]
  },
  {
   "cell_type": "markdown",
   "id": "0c21ac05",
   "metadata": {},
   "source": [
    "### 함수 사용방법\n",
    "1.함수 정의(def~)  \n",
    "2.함수 호출(함수 이름으로)"
   ]
  },
  {
   "cell_type": "code",
   "execution_count": 8,
   "id": "6ef8a4e2",
   "metadata": {},
   "outputs": [
    {
     "name": "stdout",
     "output_type": "stream",
     "text": [
      "15\n"
     ]
    }
   ],
   "source": [
    "# 1. 함수 정의\n",
    "def sum_two_value(x,y):\n",
    "    n = x + y\n",
    "    return n  # n 제거 시 반환값이 전달 되지 않으므로 None 출력\n",
    "\n",
    "# 2. 함수 호출\n",
    "total = sum_two_value(5,10)\n",
    "print(total)"
   ]
  },
  {
   "cell_type": "markdown",
   "id": "237239a6",
   "metadata": {},
   "source": [
    "### 2.parameter or argument(인자)\n",
    "- 함수에 전달되는 입력값(input)\n",
    "- 함수 정의문과 함수 호출문의 parameter 갯수가 동일해야함\n",
    "- parameter로 int, str, float, bool, list, dict 등 다양한 type 사용 가능\n",
    "- 심지어 사용자 정의 함수도 parameter로 전달 가능\n",
    "- python의 경우 동적 타이핑 언어이기 때문에 생성시 의도된 parameter type에 맞게 전달하는 것이 중요\n",
    "- 또한 parameter로 2개 이상의 값 전달시 정의 된 순서대로 전달하는 것이 중요"
   ]
  },
  {
   "cell_type": "code",
   "execution_count": 11,
   "id": "8c6822c8",
   "metadata": {},
   "outputs": [
    {
     "name": "stdout",
     "output_type": "stream",
     "text": [
      "-5\n"
     ]
    }
   ],
   "source": [
    "# Python Type Annotation\n",
    "# - 생략 가능\n",
    "# - 힌트 개념, error 체크 x (동작o)\n",
    "def sub_two_value(a: int,b: int):\n",
    "    n = a - b\n",
    "    return n\n",
    "\n",
    "c = 15\n",
    "d = 20\n",
    "num = sub_two_value(c,d)  # parameter 다르게 써도 가능하지만, 맞춰 쓰는 것을 권장(안햇갈리게)\n",
    "print(num)"
   ]
  },
  {
   "cell_type": "code",
   "execution_count": 14,
   "id": "f660923a",
   "metadata": {},
   "outputs": [
    {
     "name": "stdout",
     "output_type": "stream",
     "text": [
      "이름:김영재\n",
      "나이:20\n",
      "이름: 김영재, 나이: 20\n"
     ]
    }
   ],
   "source": [
    "# 이름과 나이를 출력하는 함수\n",
    "def print_name_age(name: str, age: int):\n",
    "    print(f\"이름: {name}, 나이: {age}\")\n",
    "    \n",
    "name = input(\"이름:\")\n",
    "age = input(\"나이:\")\n",
    "print_name_age(name,age)"
   ]
  }
 ],
 "metadata": {
  "kernelspec": {
   "display_name": "Python 3 (ipykernel)",
   "language": "python",
   "name": "python3"
  },
  "language_info": {
   "codemirror_mode": {
    "name": "ipython",
    "version": 3
   },
   "file_extension": ".py",
   "mimetype": "text/x-python",
   "name": "python",
   "nbconvert_exporter": "python",
   "pygments_lexer": "ipython3",
   "version": "3.9.13"
  }
 },
 "nbformat": 4,
 "nbformat_minor": 5
}
